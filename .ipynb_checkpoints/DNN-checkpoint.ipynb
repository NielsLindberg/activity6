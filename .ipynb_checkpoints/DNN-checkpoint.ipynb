{
 "cells": [
  {
   "cell_type": "code",
   "execution_count": 1,
   "metadata": {
    "collapsed": false,
    "deletable": true,
    "editable": true
   },
   "outputs": [],
   "source": [
    "import tensorflow as tf"
   ]
  },
  {
   "cell_type": "code",
   "execution_count": 2,
   "metadata": {
    "collapsed": true,
    "deletable": true,
    "editable": true
   },
   "outputs": [],
   "source": [
    "import pandas as pd\n",
    "import numpy as np\n",
    "from sklearn.model_selection import train_test_split"
   ]
  },
  {
   "cell_type": "code",
   "execution_count": 3,
   "metadata": {
    "collapsed": false,
    "deletable": true,
    "editable": true
   },
   "outputs": [
    {
     "data": {
      "text/html": [
       "<div>\n",
       "<style scoped>\n",
       "    .dataframe tbody tr th:only-of-type {\n",
       "        vertical-align: middle;\n",
       "    }\n",
       "\n",
       "    .dataframe tbody tr th {\n",
       "        vertical-align: top;\n",
       "    }\n",
       "\n",
       "    .dataframe thead th {\n",
       "        text-align: right;\n",
       "    }\n",
       "</style>\n",
       "<table border=\"1\" class=\"dataframe\">\n",
       "  <thead>\n",
       "    <tr style=\"text-align: right;\">\n",
       "      <th></th>\n",
       "      <th>Gender</th>\n",
       "      <th>Age</th>\n",
       "      <th>Chest Pain</th>\n",
       "      <th>Genereal level of tiredness</th>\n",
       "      <th>Pulse, resting</th>\n",
       "      <th>Blood Type</th>\n",
       "      <th>Heart disease mom/dad</th>\n",
       "      <th>Smoking</th>\n",
       "      <th>Cholesterol</th>\n",
       "      <th>Alcohol</th>\n",
       "      <th>BMI</th>\n",
       "      <th>Fitness</th>\n",
       "      <th>Use of contact lenses</th>\n",
       "      <th>Diabetes</th>\n",
       "      <th>H�matokritv�rdi</th>\n",
       "      <th>EKG</th>\n",
       "      <th>Go to doctor</th>\n",
       "    </tr>\n",
       "  </thead>\n",
       "  <tbody>\n",
       "    <tr>\n",
       "      <th>0</th>\n",
       "      <td>M</td>\n",
       "      <td>4</td>\n",
       "      <td>Periodic</td>\n",
       "      <td>4</td>\n",
       "      <td>59</td>\n",
       "      <td>0 pos</td>\n",
       "      <td>N</td>\n",
       "      <td>0</td>\n",
       "      <td>1</td>\n",
       "      <td>6</td>\n",
       "      <td>22</td>\n",
       "      <td>121</td>\n",
       "      <td>N</td>\n",
       "      <td>Healthy</td>\n",
       "      <td>38</td>\n",
       "      <td>Anormalities</td>\n",
       "      <td>NO</td>\n",
       "    </tr>\n",
       "    <tr>\n",
       "      <th>1</th>\n",
       "      <td>M</td>\n",
       "      <td>6</td>\n",
       "      <td>Often</td>\n",
       "      <td>8</td>\n",
       "      <td>80</td>\n",
       "      <td>0 pos</td>\n",
       "      <td>N</td>\n",
       "      <td>0</td>\n",
       "      <td>6</td>\n",
       "      <td>10</td>\n",
       "      <td>35</td>\n",
       "      <td>118</td>\n",
       "      <td>Y</td>\n",
       "      <td>Type 1</td>\n",
       "      <td>39</td>\n",
       "      <td>Anormalities</td>\n",
       "      <td>OBS</td>\n",
       "    </tr>\n",
       "    <tr>\n",
       "      <th>2</th>\n",
       "      <td>F</td>\n",
       "      <td>15</td>\n",
       "      <td>Periodic</td>\n",
       "      <td>0</td>\n",
       "      <td>67</td>\n",
       "      <td>B pos</td>\n",
       "      <td>Y</td>\n",
       "      <td>4</td>\n",
       "      <td>1</td>\n",
       "      <td>0</td>\n",
       "      <td>22</td>\n",
       "      <td>154</td>\n",
       "      <td>N</td>\n",
       "      <td>Healthy</td>\n",
       "      <td>41</td>\n",
       "      <td>Normal</td>\n",
       "      <td>NO</td>\n",
       "    </tr>\n",
       "    <tr>\n",
       "      <th>3</th>\n",
       "      <td>M</td>\n",
       "      <td>15</td>\n",
       "      <td>Often</td>\n",
       "      <td>10</td>\n",
       "      <td>69</td>\n",
       "      <td>B pos</td>\n",
       "      <td>Y</td>\n",
       "      <td>6</td>\n",
       "      <td>1</td>\n",
       "      <td>0</td>\n",
       "      <td>22</td>\n",
       "      <td>150</td>\n",
       "      <td>N</td>\n",
       "      <td>Healthy</td>\n",
       "      <td>40</td>\n",
       "      <td>Anormalities</td>\n",
       "      <td>NO</td>\n",
       "    </tr>\n",
       "    <tr>\n",
       "      <th>4</th>\n",
       "      <td>F</td>\n",
       "      <td>17</td>\n",
       "      <td>None</td>\n",
       "      <td>1</td>\n",
       "      <td>72</td>\n",
       "      <td>B pos</td>\n",
       "      <td>N</td>\n",
       "      <td>7</td>\n",
       "      <td>1</td>\n",
       "      <td>6</td>\n",
       "      <td>22</td>\n",
       "      <td>124</td>\n",
       "      <td>N</td>\n",
       "      <td>Healthy</td>\n",
       "      <td>42</td>\n",
       "      <td>Anormalities</td>\n",
       "      <td>NO</td>\n",
       "    </tr>\n",
       "  </tbody>\n",
       "</table>\n",
       "</div>"
      ],
      "text/plain": [
       "  Gender  Age Chest Pain  Genereal level of tiredness  Pulse, resting  \\\n",
       "0      M    4   Periodic                            4              59   \n",
       "1      M    6      Often                            8              80   \n",
       "2      F   15   Periodic                            0              67   \n",
       "3      M   15      Often                           10              69   \n",
       "4      F   17       None                            1              72   \n",
       "\n",
       "  Blood Type Heart disease mom/dad  Smoking  Cholesterol  Alcohol  BMI  \\\n",
       "0      0 pos                     N        0            1        6   22   \n",
       "1      0 pos                     N        0            6       10   35   \n",
       "2      B pos                     Y        4            1        0   22   \n",
       "3      B pos                     Y        6            1        0   22   \n",
       "4      B pos                     N        7            1        6   22   \n",
       "\n",
       "   Fitness Use of contact lenses Diabetes  H�matokritv�rdi           EKG  \\\n",
       "0      121                     N  Healthy               38  Anormalities   \n",
       "1      118                     Y   Type 1               39  Anormalities   \n",
       "2      154                     N  Healthy               41        Normal   \n",
       "3      150                     N  Healthy               40  Anormalities   \n",
       "4      124                     N  Healthy               42  Anormalities   \n",
       "\n",
       "  Go to doctor  \n",
       "0           NO  \n",
       "1          OBS  \n",
       "2           NO  \n",
       "3           NO  \n",
       "4           NO  "
      ]
     },
     "execution_count": 3,
     "metadata": {},
     "output_type": "execute_result"
    }
   ],
   "source": [
    "df = pd.read_csv('data.csv')\n",
    "df.head()"
   ]
  },
  {
   "cell_type": "code",
   "execution_count": 4,
   "metadata": {
    "collapsed": false,
    "deletable": true,
    "editable": true
   },
   "outputs": [
    {
     "name": "stdout",
     "output_type": "stream",
     "text": [
      "   Go to doctor_YES  Go to doctor_OBS  Go to doctor_NO\n",
      "0                 0                 0                1\n",
      "1                 0                 1                0\n",
      "2                 0                 0                1\n",
      "3                 0                 0                1\n",
      "4                 0                 0                1\n"
     ]
    }
   ],
   "source": [
    "\n",
    "category_fields = ['Gender', 'Chest Pain', 'Blood Type', 'Heart disease mom/dad', 'Use of contact lenses', \n",
    "                   'Diabetes', 'EKG', 'Go to doctor']\n",
    "\n",
    "for each in category_fields:\n",
    "    dummies = pd.get_dummies(df[each], prefix=each, drop_first=False)\n",
    "    df = pd.concat([df, dummies], axis=1)\n",
    "    \n",
    "df = df.drop(category_fields, axis=1)\n",
    "\n",
    "pd_y = df[['Go to doctor_YES', 'Go to doctor_OBS', 'Go to doctor_NO']]\n",
    "pd_x = df.drop(['Go to doctor_YES', 'Go to doctor_OBS', 'Go to doctor_NO'], axis=1)\n",
    "print(pd_y.head())"
   ]
  },
  {
   "cell_type": "code",
   "execution_count": 5,
   "metadata": {
    "collapsed": false,
    "deletable": true,
    "editable": true
   },
   "outputs": [],
   "source": [
    "X_train, X_test, y_train, y_test = train_test_split(pd_x, pd_y, \n",
    "                                                    test_size=0.2, \n",
    "                                                    random_state=0)\n",
    "X_test, X_eval, y_test, y_eval = train_test_split(X_test, y_test, \n",
    "                                                    test_size=0.5, \n",
    "                                                    random_state=0)\n",
    "\n",
    "def chunk(seq, size):\n",
    "    return (seq[pos:pos + size] for pos in range(0, len(seq), size))\n",
    "\n",
    "train_xb, train_yb = list(chunk(X_train, 8)), list(chunk(y_train, 8))"
   ]
  },
  {
   "cell_type": "code",
   "execution_count": 6,
   "metadata": {
    "collapsed": false,
    "deletable": true,
    "editable": true
   },
   "outputs": [],
   "source": [
    "def hidden_layer(inputs, nodes, keep_rate, norm, training):\n",
    "    outputs = tf.layers.dense(inputs, nodes, kernel_initializer=tf.contrib.layers.xavier_initializer())\n",
    "    outputs = tf.nn.relu(outputs)\n",
    "    if norm == 1:\n",
    "        outputs = tf.layers.batch_normalization(outputs, training=training)\n",
    "    outputs = tf.layers.dropout(outputs, 1-keep_rate, training=training)\n",
    "    return outputs"
   ]
  },
  {
   "cell_type": "code",
   "execution_count": 7,
   "metadata": {
    "collapsed": true,
    "deletable": true,
    "editable": true
   },
   "outputs": [],
   "source": [
    "def get_logits(net):\n",
    "    norm_input = tf.layers.batch_normalization(net.inputs_, training=net.training_)\n",
    "    hl = hidden_layer(norm_input, net.nodes, net.krate, 1, net.training_)\n",
    "    hl = hidden_layer(hl, net.nodes, net.krate, 1, net.training_)\n",
    "    logits = hidden_layer(hl, 3, net.krate, 1, net.training_)\n",
    "    return logits"
   ]
  },
  {
   "cell_type": "code",
   "execution_count": 8,
   "metadata": {
    "collapsed": true,
    "deletable": true,
    "editable": true
   },
   "outputs": [],
   "source": [
    "def get_cost(logits, targets):\n",
    "    cross_entropy = tf.reduce_mean(tf.nn.softmax_cross_entropy_with_logits(logits=logits, labels=targets),name='cross_entropy')\n",
    "    return cross_entropy"
   ]
  },
  {
   "cell_type": "code",
   "execution_count": 9,
   "metadata": {
    "collapsed": true,
    "deletable": true,
    "editable": true
   },
   "outputs": [],
   "source": [
    "def get_softmax(logits):\n",
    "    return tf.nn.softmax(logits)"
   ]
  },
  {
   "cell_type": "code",
   "execution_count": 10,
   "metadata": {
    "collapsed": true,
    "deletable": true,
    "editable": true
   },
   "outputs": [],
   "source": [
    "def write_cross_entropy(cost):\n",
    "    with tf.name_scope('cross_entropy'):\n",
    "        cross_entropy = tf.summary.scalar('cross_entropy', cost)\n",
    "        return cross_entropy"
   ]
  },
  {
   "cell_type": "code",
   "execution_count": 11,
   "metadata": {
    "collapsed": true,
    "deletable": true,
    "editable": true
   },
   "outputs": [],
   "source": [
    "def set_hypertune_param(cost):\n",
    "    with tf.name_scope('hypertune'):\n",
    "        hypertune = tf.summary.scalar('training/hptuning/metric', cost)\n",
    "        return hypertune"
   ]
  },
  {
   "cell_type": "code",
   "execution_count": 12,
   "metadata": {
    "collapsed": true,
    "deletable": true,
    "editable": true
   },
   "outputs": [],
   "source": [
    "def get_optimizer(cost, lr):\n",
    "    with tf.control_dependencies(tf.get_collection(tf.GraphKeys.UPDATE_OPS)):\n",
    "        optimizer = tf.train.AdamOptimizer(learning_rate=lr).minimize(cost)\n",
    "        return optimizer"
   ]
  },
  {
   "cell_type": "code",
   "execution_count": 13,
   "metadata": {
    "collapsed": true,
    "deletable": true,
    "editable": true
   },
   "outputs": [],
   "source": [
    "def calculate_metrics(pred, targets):\n",
    "    predictions_pd = pd.DataFrame(pred[:,:], columns=['YES', 'OBS', 'NO'])\n",
    "    targets_pd = pd.DataFrame(targets[:,:], columns=['YES', 'OBS', 'NO'])\n",
    "    predictions_pd['pred_bins'] = predictions_pd.idxmax(axis=1)\n",
    "    targets_pd['targ_bins'] = targets_pd.idxmax(axis=1)\n",
    "    test_pd = pd.concat([predictions_pd, targets_pd], axis=1)\n",
    "    test_pd['tp'] = 0\n",
    "    test_pd['fp'] = 0\n",
    "    test_pd['fn'] = 0\n",
    "\n",
    "    for each in ['YES', 'OBS', 'NO']:\n",
    "        test_pd['tp_' + each] = test_pd.apply(\n",
    "            lambda x: 1 if x['pred_bins'] == each and x['targ_bins'] == each else 0, axis=1).astype(float)\n",
    "        test_pd['tp'] += test_pd['tp_' + each]\n",
    "    \n",
    "        test_pd['fp_' + each] = test_pd.apply(\n",
    "            lambda x: 1 if x['pred_bins'] == each and x['targ_bins'] != each else 0, axis=1).astype(float)\n",
    "        test_pd['fp'] += test_pd['fp_' + each]\n",
    "\n",
    "        test_pd['fn_' + each] = test_pd.apply(\n",
    "            lambda x: 1 if x['pred_bins'] != each and x['targ_bins'] == each else 0, axis=1).astype(float)\n",
    "        test_pd['fn'] += test_pd['fn_' + each]\n",
    "    \n",
    "    print(test_pd.head())\n",
    "    return test_pd"
   ]
  },
  {
   "cell_type": "code",
   "execution_count": 22,
   "metadata": {
    "collapsed": true,
    "deletable": true,
    "editable": true
   },
   "outputs": [],
   "source": [
    "class FFDNN:\n",
    "    def __init__(self):\n",
    "        print('MODEL INIT')\n",
    "        tf.reset_default_graph()\n",
    "        self.epochs = 100\n",
    "        self.layers = 2\n",
    "        self.nodes = 200\n",
    "        self.krate = 0.5\n",
    "        self.batchtrain = False\n",
    "        self.input_shape = [None, train_xb[0].as_matrix().shape[1]]\n",
    "        self.output_shape = [None, train_yb[0].as_matrix().shape[1]]\n",
    "        self.inputs_ = tf.placeholder(tf.float32, shape=self.input_shape, name='inputs')\n",
    "        self.targets_ = tf.placeholder(tf.float32, shape=self.output_shape, name='targets')\n",
    "        self.train_learning_rate = 0.001\n",
    "        self.lr_ = tf.placeholder(tf.float32, shape=[], name='lr')\n",
    "        self.training_ = tf.placeholder(tf.bool, shape=[], name='training')\n",
    "        self.logits = get_logits(self)\n",
    "        self.softmax = get_softmax(self.logits)\n",
    "        self.cost = get_cost(self.logits, self.targets_)\n",
    "        self.cross_entropy = write_cross_entropy(self.cost)\n",
    "        self.hypertune = set_hypertune_param(self.cost)\n",
    "        self.optimizer = get_optimizer(self.cost, self.lr_)\n",
    "        self.saver = tf.train.Saver()"
   ]
  },
  {
   "cell_type": "code",
   "execution_count": 23,
   "metadata": {
    "collapsed": false,
    "deletable": true,
    "editable": true
   },
   "outputs": [],
   "source": [
    "def train(net):\n",
    "    print('TRAIN')\n",
    "    with tf.Session() as sess:\n",
    "        ##sess.run(tf.global_variables_initializer())\n",
    "        ckpt = './activity6.ckpt'\n",
    "        net.saver.restore(sess, ckpt)\n",
    "        train_writer = tf.summary.FileWriter('logs/train', sess.graph)\n",
    "        eval_writer = tf.summary.FileWriter('logs/eval', sess.graph)\n",
    "        \n",
    "        iteration = 0\n",
    "        for e in range(net.epochs):\n",
    "            \n",
    "            if net.batchtrain == True:\n",
    "                for b_idx, b in enumerate(train_xb,0):\n",
    "                    iteration += 1\n",
    "                    x, y = train_xb[b_idx].as_matrix(), train_yb[b_idx].as_matrix()\n",
    "                    train_merged = tf.summary.merge([net.cross_entropy])\n",
    "\n",
    "                    # Train\n",
    "                    feed = {net.inputs_: x, net.targets_: y, net.lr_: net.train_learning_rate, net.training_: True}\n",
    "                    summary_train, _ = sess.run([train_merged, net.optimizer], feed_dict=feed)\n",
    "                    train_writer.add_summary(summary_train, iteration)\n",
    "            else:\n",
    "                iteration += 1\n",
    "                x, y = X_train.as_matrix(), y_train.as_matrix()\n",
    "                train_merged = tf.summary.merge([net.cross_entropy])\n",
    "\n",
    "                # Train\n",
    "                feed = {net.inputs_: x, net.targets_: y, net.lr_: net.train_learning_rate, net.training_: True}\n",
    "                summary_train, _ = sess.run([train_merged, net.optimizer], feed_dict=feed)\n",
    "                train_writer.add_summary(summary_train, iteration)\n",
    "                \n",
    "            x, y = X_eval.as_matrix(), y_eval.as_matrix()\n",
    "\n",
    "            feed = {net.inputs_: x, net.targets_: y, net.lr_: net.train_learning_rate, net.training_: False}\n",
    "            summary_train_eval, cost = sess.run([train_merged, net.cost], feed_dict=feed)\n",
    "            \n",
    "            eval_writer.add_summary(summary_train_eval, iteration)\n",
    "            \n",
    "            print('Epoch ' + str(e) + ': Eval Loss = ' + str(cost))\n",
    "\n",
    "        train_writer.close()\n",
    "        eval_writer.close()\n",
    "        net.saver.save(sess, './activity6.ckpt')"
   ]
  },
  {
   "cell_type": "code",
   "execution_count": 24,
   "metadata": {
    "collapsed": true,
    "deletable": true,
    "editable": true
   },
   "outputs": [],
   "source": [
    "def test(net):\n",
    "    print('TEST')\n",
    "    with tf.Session() as sess:\n",
    "        ckpt = './activity6.ckpt'\n",
    "        net.saver.restore(sess, ckpt)\n",
    "            \n",
    "        x, y = X_test.as_matrix(), y_test.as_matrix()\n",
    "\n",
    "        feed = {net.inputs_: x, net.targets_: y, net.lr_: net.train_learning_rate, net.training_: False}\n",
    "        pred = sess.run(net.softmax, feed_dict=feed)\n",
    "    \n",
    "    details_test = calculate_metrics(pred, y)\n",
    "    \n",
    "    with tf.Session() as sess:\n",
    "        net.saver.restore(sess, ckpt)\n",
    "        \n",
    "        x_all = pd.concat([X_train, X_test, X_eval], axis=0)\n",
    "        y_all = pd.concat([y_train, y_test, y_eval], axis=0)\n",
    "        x, y = x_all.as_matrix(), y_all.as_matrix()\n",
    "\n",
    "        feed = {net.inputs_: x, net.targets_: y, net.lr_: net.train_learning_rate, net.training_: False}\n",
    "        pred = sess.run(net.softmax, feed_dict=feed)\n",
    "    \n",
    "    details_all = calculate_metrics(pred, y)\n",
    "    return details_test, details_all\n"
   ]
  },
  {
   "cell_type": "code",
   "execution_count": 25,
   "metadata": {
    "collapsed": false,
    "deletable": true,
    "editable": true
   },
   "outputs": [
    {
     "name": "stdout",
     "output_type": "stream",
     "text": [
      "MODEL INIT\n"
     ]
    },
    {
     "ename": "AttributeError",
     "evalue": "FFDNN instance has no attribute 'batchtrain'",
     "output_type": "error",
     "traceback": [
      "\u001b[0;31m---------------------------------------------------------------------------\u001b[0m",
      "\u001b[0;31mAttributeError\u001b[0m                            Traceback (most recent call last)",
      "\u001b[0;32m<ipython-input-25-0ac92fbf41ab>\u001b[0m in \u001b[0;36m<module>\u001b[0;34m()\u001b[0m\n\u001b[0;32m----> 1\u001b[0;31m \u001b[0mnet\u001b[0m \u001b[0;34m=\u001b[0m \u001b[0mFFDNN\u001b[0m\u001b[0;34m(\u001b[0m\u001b[0;34m)\u001b[0m\u001b[0;34m\u001b[0m\u001b[0m\n\u001b[0m\u001b[1;32m      2\u001b[0m \u001b[0mtrain\u001b[0m\u001b[0;34m(\u001b[0m\u001b[0mnet\u001b[0m\u001b[0;34m)\u001b[0m\u001b[0;34m\u001b[0m\u001b[0m\n",
      "\u001b[0;32m<ipython-input-22-df5ed02e3134>\u001b[0m in \u001b[0;36m__init__\u001b[0;34m(self)\u001b[0m\n\u001b[1;32m      7\u001b[0m         \u001b[0mself\u001b[0m\u001b[0;34m.\u001b[0m\u001b[0mnodes\u001b[0m \u001b[0;34m=\u001b[0m \u001b[0;36m200\u001b[0m\u001b[0;34m\u001b[0m\u001b[0m\n\u001b[1;32m      8\u001b[0m         \u001b[0mself\u001b[0m\u001b[0;34m.\u001b[0m\u001b[0mkrate\u001b[0m \u001b[0;34m=\u001b[0m \u001b[0;36m0.5\u001b[0m\u001b[0;34m\u001b[0m\u001b[0m\n\u001b[0;32m----> 9\u001b[0;31m         \u001b[0mself\u001b[0m\u001b[0;34m.\u001b[0m\u001b[0mbatchtrain\u001b[0m \u001b[0;34m==\u001b[0m \u001b[0mFalse\u001b[0m\u001b[0;34m\u001b[0m\u001b[0m\n\u001b[0m\u001b[1;32m     10\u001b[0m         \u001b[0mself\u001b[0m\u001b[0;34m.\u001b[0m\u001b[0minput_shape\u001b[0m \u001b[0;34m=\u001b[0m \u001b[0;34m[\u001b[0m\u001b[0mNone\u001b[0m\u001b[0;34m,\u001b[0m \u001b[0mtrain_xb\u001b[0m\u001b[0;34m[\u001b[0m\u001b[0;36m0\u001b[0m\u001b[0;34m]\u001b[0m\u001b[0;34m.\u001b[0m\u001b[0mas_matrix\u001b[0m\u001b[0;34m(\u001b[0m\u001b[0;34m)\u001b[0m\u001b[0;34m.\u001b[0m\u001b[0mshape\u001b[0m\u001b[0;34m[\u001b[0m\u001b[0;36m1\u001b[0m\u001b[0;34m]\u001b[0m\u001b[0;34m]\u001b[0m\u001b[0;34m\u001b[0m\u001b[0m\n\u001b[1;32m     11\u001b[0m         \u001b[0mself\u001b[0m\u001b[0;34m.\u001b[0m\u001b[0moutput_shape\u001b[0m \u001b[0;34m=\u001b[0m \u001b[0;34m[\u001b[0m\u001b[0mNone\u001b[0m\u001b[0;34m,\u001b[0m \u001b[0mtrain_yb\u001b[0m\u001b[0;34m[\u001b[0m\u001b[0;36m0\u001b[0m\u001b[0;34m]\u001b[0m\u001b[0;34m.\u001b[0m\u001b[0mas_matrix\u001b[0m\u001b[0;34m(\u001b[0m\u001b[0;34m)\u001b[0m\u001b[0;34m.\u001b[0m\u001b[0mshape\u001b[0m\u001b[0;34m[\u001b[0m\u001b[0;36m1\u001b[0m\u001b[0;34m]\u001b[0m\u001b[0;34m]\u001b[0m\u001b[0;34m\u001b[0m\u001b[0m\n",
      "\u001b[0;31mAttributeError\u001b[0m: FFDNN instance has no attribute 'batchtrain'"
     ]
    }
   ],
   "source": [
    "net = FFDNN()\n",
    "train(net)"
   ]
  },
  {
   "cell_type": "code",
   "execution_count": 18,
   "metadata": {
    "collapsed": false,
    "deletable": true,
    "editable": true
   },
   "outputs": [
    {
     "name": "stdout",
     "output_type": "stream",
     "text": [
      "TEST\n",
      "INFO:tensorflow:Restoring parameters from ./activity6.ckpt\n",
      "        YES       OBS        NO pred_bins  YES  OBS  NO targ_bins   tp   fp  \\\n",
      "0  0.557001  0.309277  0.133722       YES    1    0   0       YES  1.0  0.0   \n",
      "1  0.338974  0.479035  0.181991       OBS    1    0   0       YES  0.0  1.0   \n",
      "2  0.273580  0.431403  0.295017       OBS    1    0   0       YES  0.0  1.0   \n",
      "3  0.765355  0.079647  0.154998       YES    0    0   1        NO  0.0  1.0   \n",
      "4  0.641995  0.117322  0.240683       YES    1    0   0       YES  1.0  0.0   \n",
      "\n",
      "    fn  tp_YES  fp_YES  fn_YES  tp_OBS  fp_OBS  fn_OBS  tp_NO  fp_NO  fn_NO  \n",
      "0  0.0     1.0     0.0     0.0     0.0     0.0     0.0    0.0    0.0    0.0  \n",
      "1  1.0     0.0     0.0     1.0     0.0     1.0     0.0    0.0    0.0    0.0  \n",
      "2  1.0     0.0     0.0     1.0     0.0     1.0     0.0    0.0    0.0    0.0  \n",
      "3  1.0     0.0     1.0     0.0     0.0     0.0     0.0    0.0    0.0    1.0  \n",
      "4  0.0     1.0     0.0     0.0     0.0     0.0     0.0    0.0    0.0    0.0  \n",
      "INFO:tensorflow:Restoring parameters from ./activity6.ckpt\n",
      "        YES       OBS        NO pred_bins  YES  OBS  NO targ_bins   tp   fp  \\\n",
      "0  0.294286  0.223029  0.482685        NO    1    0   0       YES  0.0  1.0   \n",
      "1  0.113487  0.093738  0.792776        NO    0    0   1        NO  1.0  0.0   \n",
      "2  0.384927  0.315386  0.299687       YES    1    0   0       YES  1.0  0.0   \n",
      "3  0.721359  0.205041  0.073600       YES    1    0   0       YES  1.0  0.0   \n",
      "4  0.208010  0.184648  0.607343        NO    0    1   0       OBS  0.0  1.0   \n",
      "\n",
      "    fn  tp_YES  fp_YES  fn_YES  tp_OBS  fp_OBS  fn_OBS  tp_NO  fp_NO  fn_NO  \n",
      "0  1.0     0.0     0.0     1.0     0.0     0.0     0.0    0.0    1.0    0.0  \n",
      "1  0.0     0.0     0.0     0.0     0.0     0.0     0.0    1.0    0.0    0.0  \n",
      "2  0.0     1.0     0.0     0.0     0.0     0.0     0.0    0.0    0.0    0.0  \n",
      "3  0.0     1.0     0.0     0.0     0.0     0.0     0.0    0.0    0.0    0.0  \n",
      "4  1.0     0.0     0.0     0.0     0.0     0.0     1.0    0.0    1.0    0.0  \n",
      "(100, 20)\n"
     ]
    }
   ],
   "source": [
    "details, details_all = test(net)\n",
    "print(details.shape)"
   ]
  },
  {
   "cell_type": "code",
   "execution_count": 19,
   "metadata": {
    "collapsed": false,
    "deletable": true,
    "editable": true
   },
   "outputs": [
    {
     "name": "stdout",
     "output_type": "stream",
     "text": [
      "TEST SUMMARY\n",
      "YES                                                     27.122\n",
      "OBS                                                    22.0452\n",
      "NO                                                     50.8329\n",
      "pred_bins    YESOBSOBSYESYESNOYESNONONONONOOBSNONONONONONOO...\n",
      "YES                                                         28\n",
      "OBS                                                         16\n",
      "NO                                                          56\n",
      "targ_bins    YESYESYESNOYESNOYESNONONOYESNONONONOYESYESNONO...\n",
      "tp                                                          73\n",
      "fp                                                          27\n",
      "fn                                                          27\n",
      "tp_YES                                                      15\n",
      "fp_YES                                                      10\n",
      "fn_YES                                                      13\n",
      "tp_OBS                                                       7\n",
      "fp_OBS                                                      10\n",
      "fn_OBS                                                       9\n",
      "tp_NO                                                       51\n",
      "fp_NO                                                        7\n",
      "fn_NO                                                        5\n",
      "dtype: object\n",
      "ALL SUMMARY\n",
      "YES                                                    258.162\n",
      "OBS                                                    219.243\n",
      "NO                                                     522.595\n",
      "pred_bins    NONOYESYESNONONONONONONONONONONOOBSNOYESNONONO...\n",
      "YES                                                        248\n",
      "OBS                                                        161\n",
      "NO                                                         591\n",
      "targ_bins    YESNOYESYESOBSNONONONONONONONONONOOBSNOYESNONO...\n",
      "tp                                                         782\n",
      "fp                                                         218\n",
      "fn                                                         218\n",
      "tp_YES                                                     136\n",
      "fp_YES                                                      63\n",
      "fn_YES                                                     112\n",
      "tp_OBS                                                     104\n",
      "fp_OBS                                                      87\n",
      "fn_OBS                                                      57\n",
      "tp_NO                                                      542\n",
      "fp_NO                                                       68\n",
      "fn_NO                                                       49\n",
      "dtype: object\n"
     ]
    }
   ],
   "source": [
    "summaries_test = details.sum(axis=0)\n",
    "summaries_all = details_all.sum(axis=0)\n",
    "#summaries_test = calc_overall(summaries_test)\n",
    "print(\"TEST SUMMARY\")\n",
    "print(summaries_test)\n",
    "print(\"ALL SUMMARY\")\n",
    "print(summaries_all)"
   ]
  },
  {
   "cell_type": "code",
   "execution_count": 21,
   "metadata": {
    "collapsed": true,
    "deletable": true,
    "editable": true
   },
   "outputs": [],
   "source": [
    "def calc_recall_precision(summary, affix):\n",
    "    recall = summary['tp' + affix] / (summary['tp' + affix] + summary['fn' + affix])\n",
    "    precision = summary['tp' + affix] / (summary['tp' + affix] + summary['fp' + affix])\n",
    "    print(affix + ' recall: ' + str(recall) + ' ' + affix + ' precision: ' + str(precision))"
   ]
  },
  {
   "cell_type": "code",
   "execution_count": 22,
   "metadata": {
    "collapsed": false,
    "deletable": true,
    "editable": true
   },
   "outputs": [
    {
     "name": "stdout",
     "output_type": "stream",
     "text": [
      "TEST SET METRICS\n",
      " recall: 0.73  precision: 0.73\n",
      "_YES recall: 0.535714285714 _YES precision: 0.6\n",
      "_NO recall: 0.910714285714 _NO precision: 0.879310344828\n",
      "_OBS recall: 0.4375 _OBS precision: 0.411764705882\n"
     ]
    }
   ],
   "source": [
    "print('TEST SET METRICS')\n",
    "calc_recall_precision(summaries_test, '')\n",
    "calc_recall_precision(summaries_test, '_YES')\n",
    "calc_recall_precision(summaries_test, '_NO')\n",
    "calc_recall_precision(summaries_test, '_OBS')"
   ]
  },
  {
   "cell_type": "code",
   "execution_count": 23,
   "metadata": {
    "collapsed": false,
    "deletable": true,
    "editable": true
   },
   "outputs": [
    {
     "name": "stdout",
     "output_type": "stream",
     "text": [
      "ALL DATA METRICS\n",
      " recall: 0.782  precision: 0.782\n",
      "_YES recall: 0.548387096774 _YES precision: 0.683417085427\n",
      "_NO recall: 0.917089678511 _NO precision: 0.888524590164\n",
      "_OBS recall: 0.645962732919 _OBS precision: 0.544502617801\n"
     ]
    }
   ],
   "source": [
    "print('ALL DATA METRICS')\n",
    "calc_recall_precision(summaries_all, '')\n",
    "calc_recall_precision(summaries_all, '_YES')\n",
    "calc_recall_precision(summaries_all, '_NO')\n",
    "calc_recall_precision(summaries_all, '_OBS')"
   ]
  },
  {
   "cell_type": "code",
   "execution_count": null,
   "metadata": {
    "collapsed": true,
    "deletable": true,
    "editable": true
   },
   "outputs": [],
   "source": []
  }
 ],
 "metadata": {
  "kernelspec": {
   "display_name": "Python 2",
   "language": "python",
   "name": "python2"
  },
  "language_info": {
   "codemirror_mode": {
    "name": "ipython",
    "version": 2
   },
   "file_extension": ".py",
   "mimetype": "text/x-python",
   "name": "python",
   "nbconvert_exporter": "python",
   "pygments_lexer": "ipython2",
   "version": "2.7.12"
  }
 },
 "nbformat": 4,
 "nbformat_minor": 2
}
